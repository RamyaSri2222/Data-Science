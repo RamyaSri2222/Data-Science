{
  "nbformat": 4,
  "nbformat_minor": 0,
  "metadata": {
    "colab": {
      "provenance": [],
      "authorship_tag": "ABX9TyO1y+nA0/uIF4m/u3fA5jVU",
      "include_colab_link": true
    },
    "kernelspec": {
      "name": "python3",
      "display_name": "Python 3"
    },
    "language_info": {
      "name": "python"
    }
  },
  "cells": [
    {
      "cell_type": "markdown",
      "metadata": {
        "id": "view-in-github",
        "colab_type": "text"
      },
      "source": [
        "<a href=\"https://colab.research.google.com/github/RamyaSri2222/Data-Science/blob/main/Untitled10.ipynb\" target=\"_parent\"><img src=\"https://colab.research.google.com/assets/colab-badge.svg\" alt=\"Open In Colab\"/></a>"
      ]
    },
    {
      "cell_type": "code",
      "execution_count": 6,
      "metadata": {
        "colab": {
          "base_uri": "https://localhost:8080/"
        },
        "id": "Ae7AIZKRgJdV",
        "outputId": "e051f2c7-d081-4555-c1de-c690254a1604"
      },
      "outputs": [
        {
          "output_type": "stream",
          "name": "stdout",
          "text": [
            "197\n"
          ]
        }
      ],
      "source": [
        "class Abc:\n",
        "  def __init__(self,marks1,marks2):\n",
        "    self.marks1=marks1\n",
        "    self.marks2=marks2\n",
        "  def gam(self):\n",
        "    self.total=self.marks1+self.marks2\n",
        "    print(self.total)\n",
        "s=Abc(99,98)\n",
        "s.gam()"
      ]
    }
  ]
}