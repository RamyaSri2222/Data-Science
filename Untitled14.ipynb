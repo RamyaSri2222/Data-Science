{
  "nbformat": 4,
  "nbformat_minor": 0,
  "metadata": {
    "colab": {
      "provenance": [],
      "toc_visible": true,
      "authorship_tag": "ABX9TyPTVVRURR10qEuHVcsEX8j1",
      "include_colab_link": true
    },
    "kernelspec": {
      "name": "python3",
      "display_name": "Python 3"
    },
    "language_info": {
      "name": "python"
    }
  },
  "cells": [
    {
      "cell_type": "markdown",
      "metadata": {
        "id": "view-in-github",
        "colab_type": "text"
      },
      "source": [
        "<a href=\"https://colab.research.google.com/github/RamyaSri2222/Data-Science/blob/main/Untitled14.ipynb\" target=\"_parent\"><img src=\"https://colab.research.google.com/assets/colab-badge.svg\" alt=\"Open In Colab\"/></a>"
      ]
    },
    {
      "cell_type": "code",
      "execution_count": 11,
      "metadata": {
        "colab": {
          "base_uri": "https://localhost:8080/"
        },
        "id": "8w00p7Q_iNQu",
        "outputId": "7e893d23-c5d1-466f-a84e-99cab29493d3"
      },
      "outputs": [
        {
          "output_type": "stream",
          "name": "stdout",
          "text": [
            "2\n",
            "5\n",
            "15\n"
          ]
        }
      ],
      "source": [
        "class Abc:\n",
        "  def __init__(self):\n",
        "    self.a=2\n",
        "    print(self.a)\n",
        "class Xyz(Abc):\n",
        "  def show(self):\n",
        "    self.b=3\n",
        "class Aec(Xyz):\n",
        "  def display(self):\n",
        "      c=self.a+self.b\n",
        "      print(c)\n",
        "      self.c=c\n",
        "class Mns(Aec):\n",
        "  def mult(self):\n",
        "\n",
        "    d=self.c*self.b\n",
        "    print(d)\n",
        "s=Mns()\n",
        "\n",
        "s.show()\n",
        "s.display()\n",
        "s.mult()\n",
        "\n"
      ]
    },
    {
      "cell_type": "code",
      "source": [
        "class Xyz:\n",
        "  def show(self,a,b):\n",
        "    self.a=a\n",
        "    self.b=b\n",
        "class Abc:\n",
        "  def display(self, c):\n",
        "    self.c=c\n",
        "class Mnc(Xyz,Abc):\n",
        "  def show1(self,a,b):\n",
        "    d=3*self.a*self.b\n",
        "    print(d)\n",
        "s=Mnc()\n",
        "s.show(2,3)\n",
        "s.display(2)\n",
        "\n",
        "s.show1(3,2)"
      ],
      "metadata": {
        "colab": {
          "base_uri": "https://localhost:8080/"
        },
        "id": "jaT4rGuUlw5G",
        "outputId": "b87ffae8-4e9c-47de-8081-47d25465b5b2"
      },
      "execution_count": 24,
      "outputs": [
        {
          "output_type": "stream",
          "name": "stdout",
          "text": [
            "18\n"
          ]
        }
      ]
    }
  ]
}