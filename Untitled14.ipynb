{
  "nbformat": 4,
  "nbformat_minor": 0,
  "metadata": {
    "colab": {
      "provenance": [],
      "authorship_tag": "ABX9TyNrMVtkc5iJmlm7vcng+aHx",
      "include_colab_link": true
    },
    "kernelspec": {
      "name": "python3",
      "display_name": "Python 3"
    },
    "language_info": {
      "name": "python"
    }
  },
  "cells": [
    {
      "cell_type": "markdown",
      "metadata": {
        "id": "view-in-github",
        "colab_type": "text"
      },
      "source": [
        "<a href=\"https://colab.research.google.com/github/RamyaSri2222/Data-Science/blob/main/Untitled14.ipynb\" target=\"_parent\"><img src=\"https://colab.research.google.com/assets/colab-badge.svg\" alt=\"Open In Colab\"/></a>"
      ]
    },
    {
      "cell_type": "code",
      "execution_count": 11,
      "metadata": {
        "colab": {
          "base_uri": "https://localhost:8080/"
        },
        "id": "8w00p7Q_iNQu",
        "outputId": "7e893d23-c5d1-466f-a84e-99cab29493d3"
      },
      "outputs": [
        {
          "output_type": "stream",
          "name": "stdout",
          "text": [
            "2\n",
            "5\n",
            "15\n"
          ]
        }
      ],
      "source": [
        "class Abc:\n",
        "  def __init__(self):\n",
        "    self.a=2\n",
        "    print(self.a)\n",
        "class Xyz(Abc):\n",
        "  def show(self):\n",
        "    self.b=3\n",
        "class Aec(Xyz):\n",
        "  def display(self):\n",
        "      c=self.a+self.b\n",
        "      print(c)\n",
        "      self.c=c\n",
        "class Mns(Aec):\n",
        "  def mult(self):\n",
        "\n",
        "    d=self.c*self.b\n",
        "    print(d)\n",
        "s=Mns()\n",
        "\n",
        "s.show()\n",
        "s.display()\n",
        "s.mult()\n",
        "\n"
      ]
    }
  ]
}