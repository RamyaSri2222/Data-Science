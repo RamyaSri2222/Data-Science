{
  "nbformat": 4,
  "nbformat_minor": 0,
  "metadata": {
    "colab": {
      "provenance": [],
      "authorship_tag": "ABX9TyOkabPFvRuuB83ddGOpBGJW",
      "include_colab_link": true
    },
    "kernelspec": {
      "name": "python3",
      "display_name": "Python 3"
    },
    "language_info": {
      "name": "python"
    }
  },
  "cells": [
    {
      "cell_type": "markdown",
      "metadata": {
        "id": "view-in-github",
        "colab_type": "text"
      },
      "source": [
        "<a href=\"https://colab.research.google.com/github/RamyaSri2222/Data-Science/blob/main/Untitled13.ipynb\" target=\"_parent\"><img src=\"https://colab.research.google.com/assets/colab-badge.svg\" alt=\"Open In Colab\"/></a>"
      ]
    },
    {
      "cell_type": "code",
      "execution_count": 1,
      "metadata": {
        "colab": {
          "base_uri": "https://localhost:8080/"
        },
        "id": "kGVKAa0x7O0-",
        "outputId": "d3cb1790-21e7-4bb6-e23e-b5945ed07497"
      },
      "outputs": [
        {
          "output_type": "stream",
          "name": "stdout",
          "text": [
            "Mozilla\n",
            "yahoo\n",
            "google\n"
          ]
        }
      ],
      "source": [
        "class Google:\n",
        "    def show(self):\n",
        "        print(\"google\")\n",
        "class Yahoo(Google):\n",
        "    def display(self):\n",
        "        print(\"yahoo\")\n",
        "class Mozilla(Yahoo):\n",
        "    def register(self):\n",
        "        print(\"Mozilla\")\n",
        "\n",
        "s1=Mozilla()\n",
        "s1.register()\n",
        "s1.display()\n",
        "s1.show()"
      ]
    },
    {
      "cell_type": "code",
      "source": [
        "class Google:\n",
        "    def Hr(self):\n",
        "        self.a=2\n",
        "        print(self.a)\n",
        "class Yahoo(Google):\n",
        "    def Developer(self):\n",
        "        self.b=4\n",
        "        print(self.b)\n",
        "class Mozilla(Yahoo):\n",
        "    def __init__(self):\n",
        "        self.Hr()\n",
        "        self.Developer()\n",
        "        c=self.a+self.b\n",
        "        print(c)\n",
        "\n",
        "s1=Mozilla()"
      ],
      "metadata": {
        "colab": {
          "base_uri": "https://localhost:8080/"
        },
        "id": "vtusPqdw_nQT",
        "outputId": "e354334e-b5bc-4ae5-ce55-584c64c2f188"
      },
      "execution_count": 3,
      "outputs": [
        {
          "output_type": "stream",
          "name": "stdout",
          "text": [
            "2\n",
            "4\n",
            "6\n"
          ]
        }
      ]
    }
  ]
}