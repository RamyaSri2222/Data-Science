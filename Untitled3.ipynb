{
  "nbformat": 4,
  "nbformat_minor": 0,
  "metadata": {
    "colab": {
      "provenance": [],
      "authorship_tag": "ABX9TyNgSyi9e1ZjbHnABKK5fEX0",
      "include_colab_link": true
    },
    "kernelspec": {
      "name": "python3",
      "display_name": "Python 3"
    },
    "language_info": {
      "name": "python"
    }
  },
  "cells": [
    {
      "cell_type": "markdown",
      "metadata": {
        "id": "view-in-github",
        "colab_type": "text"
      },
      "source": [
        "<a href=\"https://colab.research.google.com/github/RamyaSri2222/Data-Science/blob/main/Untitled3.ipynb\" target=\"_parent\"><img src=\"https://colab.research.google.com/assets/colab-badge.svg\" alt=\"Open In Colab\"/></a>"
      ]
    },
    {
      "cell_type": "code",
      "execution_count": null,
      "metadata": {
        "id": "xAcClXW6xri-"
      },
      "outputs": [],
      "source": [
        "n=int(input(\"How many days do you want:\"))\n",
        "count=0\n",
        "\n",
        "for i in range(1,n+1):\n",
        "  m=int(input(f\"Enter Day-{i}calls\"))\n",
        "  count=count+m\n",
        "l=5\n",
        "print(count/l)\n",
        "\n",
        "\n",
        ""
      ]
    },
    {
      "cell_type": "code",
      "source": [],
      "metadata": {
        "id": "6soocNJpL1Hm"
      },
      "execution_count": null,
      "outputs": []
    }
  ]
}