{
  "nbformat": 4,
  "nbformat_minor": 0,
  "metadata": {
    "colab": {
      "provenance": [],
      "authorship_tag": "ABX9TyNHUyexWogmsPcFojWIQ+N0",
      "include_colab_link": true
    },
    "kernelspec": {
      "name": "python3",
      "display_name": "Python 3"
    },
    "language_info": {
      "name": "python"
    }
  },
  "cells": [
    {
      "cell_type": "markdown",
      "metadata": {
        "id": "view-in-github",
        "colab_type": "text"
      },
      "source": [
        "<a href=\"https://colab.research.google.com/github/RamyaSri2222/Data-Science/blob/main/Untitled12.ipynb\" target=\"_parent\"><img src=\"https://colab.research.google.com/assets/colab-badge.svg\" alt=\"Open In Colab\"/></a>"
      ]
    },
    {
      "cell_type": "code",
      "execution_count": 6,
      "metadata": {
        "colab": {
          "base_uri": "https://localhost:8080/"
        },
        "id": "tMjVV76E_NbZ",
        "outputId": "82a133c1-70e8-489c-ffdd-18bbc9ded79d"
      },
      "outputs": [
        {
          "output_type": "stream",
          "name": "stdout",
          "text": [
            "Enter the 1st number:20\n",
            "Enter the 2nd number0\n",
            "division by zero\n"
          ]
        }
      ],
      "source": [
        "try:\n",
        "  n=int(input(\"Enter the 1st number:\"))\n",
        "  m=int(input(\"Enter the 2nd number\"))\n",
        "  c=n/m\n",
        "except  Exception as e:\n",
        "   print(e)"
      ]
    }
  ]
}